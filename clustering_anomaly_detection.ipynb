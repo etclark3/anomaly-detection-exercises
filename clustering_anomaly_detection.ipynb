{
 "cells": [
  {
   "cell_type": "markdown",
   "id": "6c6937c1",
   "metadata": {},
   "source": [
    "### Clustering - DBSCAN\n",
    "##### - Use DBSCAN to detect anomalies in other products from the customers dataset. The database name is grocery_db.\n",
    "##### - Use DBSCAN to detect anomalies in requests from the curriculum access logs in the curriculum_logs database.\n",
    "##### - Use DBSCAN to detect anomalies in number of bedrooms and finished square feet of property for the filtered dataset you used in the clustering project (single unit properties with a logerror)."
   ]
  },
  {
   "cell_type": "markdown",
   "id": "8a041017",
   "metadata": {},
   "source": [
    "---"
   ]
  },
  {
   "cell_type": "code",
   "execution_count": 1,
   "id": "b7d9b378",
   "metadata": {},
   "outputs": [],
   "source": [
    "import matplotlib.pyplot as plt\n",
    "import seaborn as sns\n",
    "import numpy as np\n",
    "import pandas as pd\n",
    "\n",
    "from sklearn.cluster import DBSCAN\n",
    "# Scaler\n",
    "from sklearn.preprocessing import MinMaxScaler"
   ]
  },
  {
   "cell_type": "code",
   "execution_count": 2,
   "id": "ec9e135c",
   "metadata": {},
   "outputs": [
    {
     "data": {
      "text/html": [
       "<div>\n",
       "<style scoped>\n",
       "    .dataframe tbody tr th:only-of-type {\n",
       "        vertical-align: middle;\n",
       "    }\n",
       "\n",
       "    .dataframe tbody tr th {\n",
       "        vertical-align: top;\n",
       "    }\n",
       "\n",
       "    .dataframe thead th {\n",
       "        text-align: right;\n",
       "    }\n",
       "</style>\n",
       "<table border=\"1\" class=\"dataframe\">\n",
       "  <thead>\n",
       "    <tr style=\"text-align: right;\">\n",
       "      <th></th>\n",
       "      <th>date</th>\n",
       "      <th>time</th>\n",
       "      <th>page</th>\n",
       "      <th>id</th>\n",
       "      <th>cohort</th>\n",
       "      <th>ip</th>\n",
       "    </tr>\n",
       "  </thead>\n",
       "  <tbody>\n",
       "    <tr>\n",
       "      <th>0</th>\n",
       "      <td>2018-01-26</td>\n",
       "      <td>09:55:03</td>\n",
       "      <td>/</td>\n",
       "      <td>1</td>\n",
       "      <td>8.0</td>\n",
       "      <td>97.105.19.61</td>\n",
       "    </tr>\n",
       "    <tr>\n",
       "      <th>1</th>\n",
       "      <td>2018-01-26</td>\n",
       "      <td>09:56:02</td>\n",
       "      <td>java-ii</td>\n",
       "      <td>1</td>\n",
       "      <td>8.0</td>\n",
       "      <td>97.105.19.61</td>\n",
       "    </tr>\n",
       "    <tr>\n",
       "      <th>2</th>\n",
       "      <td>2018-01-26</td>\n",
       "      <td>09:56:05</td>\n",
       "      <td>java-ii/object-oriented-programming</td>\n",
       "      <td>1</td>\n",
       "      <td>8.0</td>\n",
       "      <td>97.105.19.61</td>\n",
       "    </tr>\n",
       "    <tr>\n",
       "      <th>3</th>\n",
       "      <td>2018-01-26</td>\n",
       "      <td>09:56:06</td>\n",
       "      <td>slides/object_oriented_programming</td>\n",
       "      <td>1</td>\n",
       "      <td>8.0</td>\n",
       "      <td>97.105.19.61</td>\n",
       "    </tr>\n",
       "    <tr>\n",
       "      <th>4</th>\n",
       "      <td>2018-01-26</td>\n",
       "      <td>09:56:24</td>\n",
       "      <td>javascript-i/conditionals</td>\n",
       "      <td>2</td>\n",
       "      <td>22.0</td>\n",
       "      <td>97.105.19.61</td>\n",
       "    </tr>\n",
       "    <tr>\n",
       "      <th>...</th>\n",
       "      <td>...</td>\n",
       "      <td>...</td>\n",
       "      <td>...</td>\n",
       "      <td>...</td>\n",
       "      <td>...</td>\n",
       "      <td>...</td>\n",
       "    </tr>\n",
       "    <tr>\n",
       "      <th>900218</th>\n",
       "      <td>2021-04-21</td>\n",
       "      <td>16:41:51</td>\n",
       "      <td>jquery/personal-site</td>\n",
       "      <td>64</td>\n",
       "      <td>28.0</td>\n",
       "      <td>71.150.217.33</td>\n",
       "    </tr>\n",
       "    <tr>\n",
       "      <th>900219</th>\n",
       "      <td>2021-04-21</td>\n",
       "      <td>16:42:02</td>\n",
       "      <td>jquery/mapbox-api</td>\n",
       "      <td>64</td>\n",
       "      <td>28.0</td>\n",
       "      <td>71.150.217.33</td>\n",
       "    </tr>\n",
       "    <tr>\n",
       "      <th>900220</th>\n",
       "      <td>2021-04-21</td>\n",
       "      <td>16:42:09</td>\n",
       "      <td>jquery/ajax/weather-map</td>\n",
       "      <td>64</td>\n",
       "      <td>28.0</td>\n",
       "      <td>71.150.217.33</td>\n",
       "    </tr>\n",
       "    <tr>\n",
       "      <th>900221</th>\n",
       "      <td>2021-04-21</td>\n",
       "      <td>16:44:37</td>\n",
       "      <td>anomaly-detection/discrete-probabilistic-methods</td>\n",
       "      <td>744</td>\n",
       "      <td>28.0</td>\n",
       "      <td>24.160.137.86</td>\n",
       "    </tr>\n",
       "    <tr>\n",
       "      <th>900222</th>\n",
       "      <td>2021-04-21</td>\n",
       "      <td>16:44:39</td>\n",
       "      <td>jquery/mapbox-api</td>\n",
       "      <td>64</td>\n",
       "      <td>28.0</td>\n",
       "      <td>71.150.217.33</td>\n",
       "    </tr>\n",
       "  </tbody>\n",
       "</table>\n",
       "<p>900223 rows × 6 columns</p>\n",
       "</div>"
      ],
      "text/plain": [
       "              date      time  \\\n",
       "0       2018-01-26  09:55:03   \n",
       "1       2018-01-26  09:56:02   \n",
       "2       2018-01-26  09:56:05   \n",
       "3       2018-01-26  09:56:06   \n",
       "4       2018-01-26  09:56:24   \n",
       "...            ...       ...   \n",
       "900218  2021-04-21  16:41:51   \n",
       "900219  2021-04-21  16:42:02   \n",
       "900220  2021-04-21  16:42:09   \n",
       "900221  2021-04-21  16:44:37   \n",
       "900222  2021-04-21  16:44:39   \n",
       "\n",
       "                                                    page   id  cohort  \\\n",
       "0                                                      /    1     8.0   \n",
       "1                                                java-ii    1     8.0   \n",
       "2                    java-ii/object-oriented-programming    1     8.0   \n",
       "3                     slides/object_oriented_programming    1     8.0   \n",
       "4                              javascript-i/conditionals    2    22.0   \n",
       "...                                                  ...  ...     ...   \n",
       "900218                              jquery/personal-site   64    28.0   \n",
       "900219                                 jquery/mapbox-api   64    28.0   \n",
       "900220                           jquery/ajax/weather-map   64    28.0   \n",
       "900221  anomaly-detection/discrete-probabilistic-methods  744    28.0   \n",
       "900222                                 jquery/mapbox-api   64    28.0   \n",
       "\n",
       "                   ip  \n",
       "0        97.105.19.61  \n",
       "1        97.105.19.61  \n",
       "2        97.105.19.61  \n",
       "3        97.105.19.61  \n",
       "4        97.105.19.61  \n",
       "...               ...  \n",
       "900218  71.150.217.33  \n",
       "900219  71.150.217.33  \n",
       "900220  71.150.217.33  \n",
       "900221  24.160.137.86  \n",
       "900222  71.150.217.33  \n",
       "\n",
       "[900223 rows x 6 columns]"
      ]
     },
     "execution_count": 2,
     "metadata": {},
     "output_type": "execute_result"
    }
   ],
   "source": [
    "df = pd.read_csv('anonymized-curriculum-access.txt', sep=\" \", header=None,\n",
    "                  names = ['date', 'time', 'page', 'id', 'cohort', 'ip'])\n",
    "df"
   ]
  },
  {
   "cell_type": "code",
   "execution_count": 3,
   "id": "f7c2ebef",
   "metadata": {},
   "outputs": [
    {
     "name": "stderr",
     "output_type": "stream",
     "text": [
      "/var/folders/t2/c4rfp_5j33nfsbfkcj7scwjh0000gn/T/ipykernel_46363/335105209.py:1: FutureWarning: Indexing with multiple keys (implicitly converted to a tuple of keys) will be deprecated, use a list instead.\n",
      "  df.groupby(['id'])['date', 'page', 'cohort'].nunique().date.hist()\n"
     ]
    },
    {
     "data": {
      "text/plain": [
       "<AxesSubplot:>"
      ]
     },
     "execution_count": 3,
     "metadata": {},
     "output_type": "execute_result"
    },
    {
     "data": {
      "image/png": "[encoded data removed]",
      "text/plain": [
       "<Figure size 432x288 with 1 Axes>"
      ]
     },
     "metadata": {
      "needs_background": "light"
     },
     "output_type": "display_data"
    }
   ],
   "source": [
    "df.groupby(['id'])['date', 'page', 'cohort'].nunique().date.hist()"
   ]
  },
  {
   "cell_type": "code",
   "execution_count": 4,
   "id": "b22e372d",
   "metadata": {},
   "outputs": [],
   "source": [
    "df['date'] = pd.to_datetime(df['date'])"
   ]
  },
  {
   "cell_type": "code",
   "execution_count": 24,
   "id": "d1f8d152",
   "metadata": {},
   "outputs": [],
   "source": [
    "#df.iloc[:,1:]"
   ]
  },
  {
   "cell_type": "code",
   "execution_count": 25,
   "id": "965e73ae",
   "metadata": {},
   "outputs": [],
   "source": [
    "scaler = MinMaxScaler().fit(df.groupby(['id'])['page'].agg(['count', 'nunique']))"
   ]
  },
  {
   "cell_type": "code",
   "execution_count": 26,
   "id": "0a119c8b",
   "metadata": {},
   "outputs": [],
   "source": [
    "scaled = scaler.transform(df.groupby(['id'])['page'].agg(['count', 'nunique']))"
   ]
  },
  {
   "cell_type": "code",
   "execution_count": 28,
   "id": "3215a478",
   "metadata": {},
   "outputs": [
    {
     "data": {
      "text/plain": [
       "array([[4.13298347e-01, 1.00000000e+00],\n",
       "       [8.59758821e-02, 1.53846154e-01],\n",
       "       [8.71482805e-02, 1.72307692e-01],\n",
       "       ...,\n",
       "       [7.03439035e-03, 1.94871795e-02],\n",
       "       [1.11656990e-04, 0.00000000e+00],\n",
       "       [2.28896829e-03, 8.20512821e-03]])"
      ]
     },
     "execution_count": 28,
     "metadata": {},
     "output_type": "execute_result"
    }
   ],
   "source": [
    "scaled"
   ]
  },
  {
   "cell_type": "code",
   "execution_count": 30,
   "id": "d65cbf75",
   "metadata": {},
   "outputs": [
    {
     "data": {
      "text/html": [
       "<div>\n",
       "<style scoped>\n",
       "    .dataframe tbody tr th:only-of-type {\n",
       "        vertical-align: middle;\n",
       "    }\n",
       "\n",
       "    .dataframe tbody tr th {\n",
       "        vertical-align: top;\n",
       "    }\n",
       "\n",
       "    .dataframe thead th {\n",
       "        text-align: right;\n",
       "    }\n",
       "</style>\n",
       "<table border=\"1\" class=\"dataframe\">\n",
       "  <thead>\n",
       "    <tr style=\"text-align: right;\">\n",
       "      <th></th>\n",
       "      <th>count_scaled</th>\n",
       "      <th>nunique_scaled</th>\n",
       "    </tr>\n",
       "    <tr>\n",
       "      <th>id</th>\n",
       "      <th></th>\n",
       "      <th></th>\n",
       "    </tr>\n",
       "  </thead>\n",
       "  <tbody>\n",
       "    <tr>\n",
       "      <th>1</th>\n",
       "      <td>0.413298</td>\n",
       "      <td>1.000000</td>\n",
       "    </tr>\n",
       "    <tr>\n",
       "      <th>2</th>\n",
       "      <td>0.085976</td>\n",
       "      <td>0.153846</td>\n",
       "    </tr>\n",
       "    <tr>\n",
       "      <th>3</th>\n",
       "      <td>0.087148</td>\n",
       "      <td>0.172308</td>\n",
       "    </tr>\n",
       "    <tr>\n",
       "      <th>4</th>\n",
       "      <td>0.038577</td>\n",
       "      <td>0.145641</td>\n",
       "    </tr>\n",
       "    <tr>\n",
       "      <th>5</th>\n",
       "      <td>0.094908</td>\n",
       "      <td>0.201026</td>\n",
       "    </tr>\n",
       "    <tr>\n",
       "      <th>...</th>\n",
       "      <td>...</td>\n",
       "      <td>...</td>\n",
       "    </tr>\n",
       "    <tr>\n",
       "      <th>977</th>\n",
       "      <td>0.004745</td>\n",
       "      <td>0.011282</td>\n",
       "    </tr>\n",
       "    <tr>\n",
       "      <th>978</th>\n",
       "      <td>0.003015</td>\n",
       "      <td>0.017436</td>\n",
       "    </tr>\n",
       "    <tr>\n",
       "      <th>979</th>\n",
       "      <td>0.007034</td>\n",
       "      <td>0.019487</td>\n",
       "    </tr>\n",
       "    <tr>\n",
       "      <th>980</th>\n",
       "      <td>0.000112</td>\n",
       "      <td>0.000000</td>\n",
       "    </tr>\n",
       "    <tr>\n",
       "      <th>981</th>\n",
       "      <td>0.002289</td>\n",
       "      <td>0.008205</td>\n",
       "    </tr>\n",
       "  </tbody>\n",
       "</table>\n",
       "<p>981 rows × 2 columns</p>\n",
       "</div>"
      ],
      "text/plain": [
       "     count_scaled  nunique_scaled\n",
       "id                               \n",
       "1        0.413298        1.000000\n",
       "2        0.085976        0.153846\n",
       "3        0.087148        0.172308\n",
       "4        0.038577        0.145641\n",
       "5        0.094908        0.201026\n",
       "..            ...             ...\n",
       "977      0.004745        0.011282\n",
       "978      0.003015        0.017436\n",
       "979      0.007034        0.019487\n",
       "980      0.000112        0.000000\n",
       "981      0.002289        0.008205\n",
       "\n",
       "[981 rows x 2 columns]"
      ]
     },
     "execution_count": 30,
     "metadata": {},
     "output_type": "execute_result"
    }
   ],
   "source": [
    "new_df = pd.DataFrame(scaled, columns=[col + '_scaled' for col in df.groupby(['id'])['page'].agg(['count', 'nunique']).columns], index=df.groupby(['id'])['page'].agg(['count', 'nunique']).index)\n",
    "new_df"
   ]
  },
  {
   "cell_type": "code",
   "execution_count": 32,
   "id": "1a694f6f",
   "metadata": {},
   "outputs": [
    {
     "data": {
      "text/plain": [
       "DBSCAN(eps=0.1, min_samples=20)"
      ]
     },
     "execution_count": 32,
     "metadata": {},
     "output_type": "execute_result"
    }
   ],
   "source": [
    "dbsc = DBSCAN(min_samples=20, eps=0.1)\n",
    "dbsc"
   ]
  },
  {
   "cell_type": "code",
   "execution_count": 33,
   "id": "fc292d9e",
   "metadata": {},
   "outputs": [
    {
     "data": {
      "text/plain": [
       "DBSCAN(eps=0.1, min_samples=20)"
      ]
     },
     "execution_count": 33,
     "metadata": {},
     "output_type": "execute_result"
    }
   ],
   "source": [
    "dbsc.fit(new_df)"
   ]
  },
  {
   "cell_type": "code",
   "execution_count": 34,
   "id": "b7e2b839",
   "metadata": {},
   "outputs": [
    {
     "data": {
      "text/plain": [
       "(981, 2)"
      ]
     },
     "execution_count": 34,
     "metadata": {},
     "output_type": "execute_result"
    }
   ],
   "source": [
    "new_df.shape"
   ]
  },
  {
   "cell_type": "code",
   "execution_count": 37,
   "id": "0f3d8cdc",
   "metadata": {},
   "outputs": [
    {
     "data": {
      "text/html": [
       "<div>\n",
       "<style scoped>\n",
       "    .dataframe tbody tr th:only-of-type {\n",
       "        vertical-align: middle;\n",
       "    }\n",
       "\n",
       "    .dataframe tbody tr th {\n",
       "        vertical-align: top;\n",
       "    }\n",
       "\n",
       "    .dataframe thead th {\n",
       "        text-align: right;\n",
       "    }\n",
       "</style>\n",
       "<table border=\"1\" class=\"dataframe\">\n",
       "  <thead>\n",
       "    <tr style=\"text-align: right;\">\n",
       "      <th></th>\n",
       "      <th>count</th>\n",
       "      <th>nunique</th>\n",
       "      <th>count_scaled</th>\n",
       "      <th>nunique_scaled</th>\n",
       "    </tr>\n",
       "  </thead>\n",
       "  <tbody>\n",
       "    <tr>\n",
       "      <th>0</th>\n",
       "      <td>7404</td>\n",
       "      <td>976</td>\n",
       "      <td>0.413298</td>\n",
       "      <td>1.000000</td>\n",
       "    </tr>\n",
       "    <tr>\n",
       "      <th>1</th>\n",
       "      <td>1541</td>\n",
       "      <td>151</td>\n",
       "      <td>0.085976</td>\n",
       "      <td>0.153846</td>\n",
       "    </tr>\n",
       "    <tr>\n",
       "      <th>2</th>\n",
       "      <td>1562</td>\n",
       "      <td>169</td>\n",
       "      <td>0.087148</td>\n",
       "      <td>0.172308</td>\n",
       "    </tr>\n",
       "    <tr>\n",
       "      <th>3</th>\n",
       "      <td>692</td>\n",
       "      <td>143</td>\n",
       "      <td>0.038577</td>\n",
       "      <td>0.145641</td>\n",
       "    </tr>\n",
       "    <tr>\n",
       "      <th>4</th>\n",
       "      <td>1701</td>\n",
       "      <td>197</td>\n",
       "      <td>0.094908</td>\n",
       "      <td>0.201026</td>\n",
       "    </tr>\n",
       "    <tr>\n",
       "      <th>...</th>\n",
       "      <td>...</td>\n",
       "      <td>...</td>\n",
       "      <td>...</td>\n",
       "      <td>...</td>\n",
       "    </tr>\n",
       "    <tr>\n",
       "      <th>976</th>\n",
       "      <td>86</td>\n",
       "      <td>12</td>\n",
       "      <td>0.004745</td>\n",
       "      <td>0.011282</td>\n",
       "    </tr>\n",
       "    <tr>\n",
       "      <th>977</th>\n",
       "      <td>55</td>\n",
       "      <td>18</td>\n",
       "      <td>0.003015</td>\n",
       "      <td>0.017436</td>\n",
       "    </tr>\n",
       "    <tr>\n",
       "      <th>978</th>\n",
       "      <td>127</td>\n",
       "      <td>20</td>\n",
       "      <td>0.007034</td>\n",
       "      <td>0.019487</td>\n",
       "    </tr>\n",
       "    <tr>\n",
       "      <th>979</th>\n",
       "      <td>3</td>\n",
       "      <td>1</td>\n",
       "      <td>0.000112</td>\n",
       "      <td>0.000000</td>\n",
       "    </tr>\n",
       "    <tr>\n",
       "      <th>980</th>\n",
       "      <td>42</td>\n",
       "      <td>9</td>\n",
       "      <td>0.002289</td>\n",
       "      <td>0.008205</td>\n",
       "    </tr>\n",
       "  </tbody>\n",
       "</table>\n",
       "<p>981 rows × 4 columns</p>\n",
       "</div>"
      ],
      "text/plain": [
       "     count  nunique  count_scaled  nunique_scaled\n",
       "0     7404      976      0.413298        1.000000\n",
       "1     1541      151      0.085976        0.153846\n",
       "2     1562      169      0.087148        0.172308\n",
       "3      692      143      0.038577        0.145641\n",
       "4     1701      197      0.094908        0.201026\n",
       "..     ...      ...           ...             ...\n",
       "976     86       12      0.004745        0.011282\n",
       "977     55       18      0.003015        0.017436\n",
       "978    127       20      0.007034        0.019487\n",
       "979      3        1      0.000112        0.000000\n",
       "980     42        9      0.002289        0.008205\n",
       "\n",
       "[981 rows x 4 columns]"
      ]
     },
     "execution_count": 37,
     "metadata": {},
     "output_type": "execute_result"
    }
   ],
   "source": [
    "# Merge the scaled and non-scaled values into one dataframe\n",
    "all_ = df.groupby(['id'])['page'].agg(['count', 'nunique']).merge(\n",
    "    new_df, on=df.groupby(['id'])['page'].agg(['count', 'nunique']).index).drop(\n",
    "    columns=['key_0'])\n",
    "all_"
   ]
  },
  {
   "cell_type": "code",
   "execution_count": 38,
   "id": "86e53c26",
   "metadata": {},
   "outputs": [
    {
     "data": {
      "text/html": [
       "<div>\n",
       "<style scoped>\n",
       "    .dataframe tbody tr th:only-of-type {\n",
       "        vertical-align: middle;\n",
       "    }\n",
       "\n",
       "    .dataframe tbody tr th {\n",
       "        vertical-align: top;\n",
       "    }\n",
       "\n",
       "    .dataframe thead th {\n",
       "        text-align: right;\n",
       "    }\n",
       "</style>\n",
       "<table border=\"1\" class=\"dataframe\">\n",
       "  <thead>\n",
       "    <tr style=\"text-align: right;\">\n",
       "      <th></th>\n",
       "      <th>count</th>\n",
       "      <th>nunique</th>\n",
       "      <th>count_scaled</th>\n",
       "      <th>nunique_scaled</th>\n",
       "      <th>labels</th>\n",
       "    </tr>\n",
       "  </thead>\n",
       "  <tbody>\n",
       "    <tr>\n",
       "      <th>0</th>\n",
       "      <td>7404</td>\n",
       "      <td>976</td>\n",
       "      <td>0.413298</td>\n",
       "      <td>1.000000</td>\n",
       "      <td>-1</td>\n",
       "    </tr>\n",
       "    <tr>\n",
       "      <th>1</th>\n",
       "      <td>1541</td>\n",
       "      <td>151</td>\n",
       "      <td>0.085976</td>\n",
       "      <td>0.153846</td>\n",
       "      <td>0</td>\n",
       "    </tr>\n",
       "    <tr>\n",
       "      <th>2</th>\n",
       "      <td>1562</td>\n",
       "      <td>169</td>\n",
       "      <td>0.087148</td>\n",
       "      <td>0.172308</td>\n",
       "      <td>0</td>\n",
       "    </tr>\n",
       "    <tr>\n",
       "      <th>3</th>\n",
       "      <td>692</td>\n",
       "      <td>143</td>\n",
       "      <td>0.038577</td>\n",
       "      <td>0.145641</td>\n",
       "      <td>0</td>\n",
       "    </tr>\n",
       "    <tr>\n",
       "      <th>4</th>\n",
       "      <td>1701</td>\n",
       "      <td>197</td>\n",
       "      <td>0.094908</td>\n",
       "      <td>0.201026</td>\n",
       "      <td>0</td>\n",
       "    </tr>\n",
       "    <tr>\n",
       "      <th>...</th>\n",
       "      <td>...</td>\n",
       "      <td>...</td>\n",
       "      <td>...</td>\n",
       "      <td>...</td>\n",
       "      <td>...</td>\n",
       "    </tr>\n",
       "    <tr>\n",
       "      <th>976</th>\n",
       "      <td>86</td>\n",
       "      <td>12</td>\n",
       "      <td>0.004745</td>\n",
       "      <td>0.011282</td>\n",
       "      <td>0</td>\n",
       "    </tr>\n",
       "    <tr>\n",
       "      <th>977</th>\n",
       "      <td>55</td>\n",
       "      <td>18</td>\n",
       "      <td>0.003015</td>\n",
       "      <td>0.017436</td>\n",
       "      <td>0</td>\n",
       "    </tr>\n",
       "    <tr>\n",
       "      <th>978</th>\n",
       "      <td>127</td>\n",
       "      <td>20</td>\n",
       "      <td>0.007034</td>\n",
       "      <td>0.019487</td>\n",
       "      <td>0</td>\n",
       "    </tr>\n",
       "    <tr>\n",
       "      <th>979</th>\n",
       "      <td>3</td>\n",
       "      <td>1</td>\n",
       "      <td>0.000112</td>\n",
       "      <td>0.000000</td>\n",
       "      <td>0</td>\n",
       "    </tr>\n",
       "    <tr>\n",
       "      <th>980</th>\n",
       "      <td>42</td>\n",
       "      <td>9</td>\n",
       "      <td>0.002289</td>\n",
       "      <td>0.008205</td>\n",
       "      <td>0</td>\n",
       "    </tr>\n",
       "  </tbody>\n",
       "</table>\n",
       "<p>981 rows × 5 columns</p>\n",
       "</div>"
      ],
      "text/plain": [
       "     count  nunique  count_scaled  nunique_scaled  labels\n",
       "0     7404      976      0.413298        1.000000      -1\n",
       "1     1541      151      0.085976        0.153846       0\n",
       "2     1562      169      0.087148        0.172308       0\n",
       "3      692      143      0.038577        0.145641       0\n",
       "4     1701      197      0.094908        0.201026       0\n",
       "..     ...      ...           ...             ...     ...\n",
       "976     86       12      0.004745        0.011282       0\n",
       "977     55       18      0.003015        0.017436       0\n",
       "978    127       20      0.007034        0.019487       0\n",
       "979      3        1      0.000112        0.000000       0\n",
       "980     42        9      0.002289        0.008205       0\n",
       "\n",
       "[981 rows x 5 columns]"
      ]
     },
     "execution_count": 38,
     "metadata": {},
     "output_type": "execute_result"
    }
   ],
   "source": [
    "all_['labels'] = dbsc.labels_\n",
    "all_"
   ]
  },
  {
   "cell_type": "code",
   "execution_count": 40,
   "id": "c0162a7f",
   "metadata": {},
   "outputs": [
    {
     "name": "stdout",
     "output_type": "stream",
     "text": [
      "Population\n",
      "              count     nunique  count_scaled  nunique_scaled      labels\n",
      "count    981.000000  981.000000    981.000000      981.000000  981.000000\n",
      "mean     917.657492  118.356779      0.051176        0.120366   -0.008155\n",
      "std     1208.871322   80.781117      0.067489        0.082852    0.089982\n",
      "min        1.000000    1.000000      0.000000        0.000000   -1.000000\n",
      "25%      187.000000   53.000000      0.010384        0.053333    0.000000\n",
      "50%      692.000000  140.000000      0.038577        0.142564    0.000000\n",
      "75%     1297.000000  166.000000      0.072354        0.169231    0.000000\n",
      "max    17913.000000  976.000000      1.000000        1.000000    0.000000\n",
      "-------------\n",
      "Inliers\n",
      "             count     nunique  count_scaled  nunique_scaled  labels\n",
      "count   973.000000  973.000000    973.000000      973.000000   973.0\n",
      "mean    843.253854  115.153135      0.047022        0.117080     0.0\n",
      "std     787.044042   68.765856      0.043939        0.070529     0.0\n",
      "min       1.000000    1.000000      0.000000        0.000000     0.0\n",
      "25%     184.000000   50.000000      0.010217        0.050256     0.0\n",
      "50%     682.000000  140.000000      0.038019        0.142564     0.0\n",
      "75%    1279.000000  165.000000      0.071349        0.168205     0.0\n",
      "max    5897.000000  352.000000      0.329165        0.360000     0.0\n",
      "-------------\n",
      "Outliers\n",
      "              count     nunique  count_scaled  nunique_scaled  labels\n",
      "count      8.000000    8.000000      8.000000        8.000000     8.0\n",
      "mean    9967.000000  508.000000      0.556387        0.520000    -1.0\n",
      "std     4921.341194  286.400818      0.274751        0.293744     0.0\n",
      "min     5075.000000  225.000000      0.283274        0.229744    -1.0\n",
      "25%     6446.750000  310.500000      0.359857        0.317436    -1.0\n",
      "50%     7593.500000  395.500000      0.423878        0.404615    -1.0\n",
      "75%    13333.500000  686.500000      0.744333        0.703077    -1.0\n",
      "max    17913.000000  976.000000      1.000000        1.000000    -1.0\n"
     ]
    }
   ],
   "source": [
    "# Let's look at the descriptive stats for the entire population, the inliers, then the outliers/anomalies\n",
    "print(\"Population\")\n",
    "print(all_.describe())\n",
    "print(\"-------------\")\n",
    "print(\"Inliers\")\n",
    "print(all_[all_.labels==0].describe())\n",
    "print(\"-------------\")\n",
    "print(\"Outliers\")\n",
    "print(all_[all_.labels==-1].describe())"
   ]
  },
  {
   "cell_type": "code",
   "execution_count": 41,
   "id": "96048fa7",
   "metadata": {},
   "outputs": [
    {
     "data": {
      "image/png": "[encoded data removed]",
      "text/plain": [
       "<Figure size 432x288 with 1 Axes>"
      ]
     },
     "metadata": {
      "needs_background": "light"
     },
     "output_type": "display_data"
    }
   ],
   "source": [
    "plt.scatter(all_['count'],\n",
    "           all_['nunique'],\n",
    "           c=all_['labels'])\n",
    "plt.title('Cluster assignment by page count and unique count per user')\n",
    "plt.show()"
   ]
  },
  {
   "cell_type": "code",
   "execution_count": null,
   "id": "b416535c",
   "metadata": {},
   "outputs": [],
   "source": []
  }
 ],
 "metadata": {
  "kernelspec": {
   "display_name": "Python 3 (ipykernel)",
   "language": "python",
   "name": "python3"
  },
  "language_info": {
   "codemirror_mode": {
    "name": "ipython",
    "version": 3
   },
   "file_extension": ".py",
   "mimetype": "text/x-python",
   "name": "python",
   "nbconvert_exporter": "python",
   "pygments_lexer": "ipython3",
   "version": "3.9.12"
  }
 },
 "nbformat": 4,
 "nbformat_minor": 5
}
