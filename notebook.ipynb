{
 "cells": [
  {
   "cell_type": "markdown",
   "id": "1c1d4be9",
   "metadata": {},
   "source": [
    "I have some questions for you that I need to be answered before the board meeting Morning morning. I need to be able to speak to the following questions. I also need a single slide that I can incorporate into my existing presentation (Google Slides) that summarizes the most important points. My questions are listed below; however, if you discover anything else important that I didn’t think to ask, please include that as well.\n",
    "\n",
    "\n",
    "1. Which lesson appears to attract the most traffic consistently across cohorts (per program)?\n",
    "2. Is there a cohort that referred to a lesson significantly more than other cohorts seemed to gloss over?\n",
    "3. Are there students who, when active, hardly access the curriculum? If so, what information do you have about these students?\n",
    "4. Is there any suspicious activity, such as users/machines/etc accessing the curriculum who shouldn’t be? Does it appear that any web-scraping is happening? Are there any suspicious IP addresses?\n",
    "5. At some point in 2019, the ability for students and alumni to access both curriculums (web dev to ds, ds to web dev) should have been shut off. Do you see any evidence of that happening? Did it happen before?\n",
    "6. What topics are grads continuing to reference after graduation and into their jobs (for each program)?\n",
    "7. Which lessons are least accessed? \n",
    "8. Anything else I should be aware of?\n",
    "\n",
    "\n",
    "Thank you,\n",
    "\n",
    "\n",
    "___________________\n",
    "\n",
    "\n",
    "Other info:\n",
    "\n",
    "\n",
    "• To get 100 on this project you only need to answer 5 out of the 7 questions (along with the other deliverables listed below i.e. slide, your notebook, etc).\n",
    "• send your email before the due date and time to datascience@codeup.com (Only one team member can do this on behalf of whole team).\n",
    "• Submit a link to a final notebook on GitHub that asks and answers questions - document the work you do to justify findings\n",
    "• Compose an email with the answers to the questions/your findings, and in the email, include the link to your notebook in GitHub and attach your slide.\n",
    "• You will not present this, so be sure that the details you need your leader to convey/understand are clearly communicated in the email.\n",
    "• Your slide should be like an executive summary and be in form to present.\n",
    "• Continue to use best practices of acquire.py, prepare.py, etc.\n",
    "• Since there is no modeling to be done for this project, there is no need to split the data into train/validate/test\n",
    "• The cohort schedule is in the SQL database, and alumni.codeup.com has info as well.\n",
    "• Teamwork with Git handout is posted in the google classroom"
   ]
  },
  {
   "cell_type": "code",
   "execution_count": null,
   "id": "acc8b516",
   "metadata": {},
   "outputs": [],
   "source": []
  }
 ],
 "metadata": {
  "kernelspec": {
   "display_name": "Python 3 (ipykernel)",
   "language": "python",
   "name": "python3"
  },
  "language_info": {
   "codemirror_mode": {
    "name": "ipython",
    "version": 3
   },
   "file_extension": ".py",
   "mimetype": "text/x-python",
   "name": "python",
   "nbconvert_exporter": "python",
   "pygments_lexer": "ipython3",
   "version": "3.9.12"
  }
 },
 "nbformat": 4,
 "nbformat_minor": 5
}
